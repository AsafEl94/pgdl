{
 "cells": [
  {
   "cell_type": "code",
   "execution_count": null,
   "id": "2acc6171-a93c-4fc5-bb8d-7f63daa2aab5",
   "metadata": {
    "is_executing": true
   },
   "outputs": [],
   "source": [
    "from sqlalchemy import create_engine\n",
    "import pandas as pd\n",
    "\n",
    "db_con = create_engine('postgresql://postgres:argmax@pg:5432/postgres')\n"
   ]
  },
  {
   "cell_type": "code",
   "execution_count": 15,
   "id": "7f22e578-28a7-45ca-828b-45f0f56d7909",
   "metadata": {},
   "outputs": [
    {
     "name": "stdout",
     "output_type": "stream",
     "text": [
      "    table_catalog        table_schema              table_name  table_type  \\\n",
      "0        postgres          pg_catalog            pg_statistic  BASE TABLE   \n",
      "1        postgres          pg_catalog                 pg_type  BASE TABLE   \n",
      "2        postgres          pg_catalog        pg_foreign_table  BASE TABLE   \n",
      "3        postgres          pg_catalog               pg_authid  BASE TABLE   \n",
      "4        postgres          pg_catalog               pg_shadow        VIEW   \n",
      "..            ...                 ...                     ...         ...   \n",
      "204      postgres  information_schema          foreign_tables        VIEW   \n",
      "205      postgres  information_schema  foreign_server_options        VIEW   \n",
      "206      postgres  information_schema       _pg_user_mappings        VIEW   \n",
      "207      postgres  information_schema    user_mapping_options        VIEW   \n",
      "208      postgres  information_schema           user_mappings        VIEW   \n",
      "\n",
      "    self_referencing_column_name reference_generation  \\\n",
      "0                           None                 None   \n",
      "1                           None                 None   \n",
      "2                           None                 None   \n",
      "3                           None                 None   \n",
      "4                           None                 None   \n",
      "..                           ...                  ...   \n",
      "204                         None                 None   \n",
      "205                         None                 None   \n",
      "206                         None                 None   \n",
      "207                         None                 None   \n",
      "208                         None                 None   \n",
      "\n",
      "    user_defined_type_catalog user_defined_type_schema user_defined_type_name  \\\n",
      "0                        None                     None                   None   \n",
      "1                        None                     None                   None   \n",
      "2                        None                     None                   None   \n",
      "3                        None                     None                   None   \n",
      "4                        None                     None                   None   \n",
      "..                        ...                      ...                    ...   \n",
      "204                      None                     None                   None   \n",
      "205                      None                     None                   None   \n",
      "206                      None                     None                   None   \n",
      "207                      None                     None                   None   \n",
      "208                      None                     None                   None   \n",
      "\n",
      "    is_insertable_into is_typed commit_action  \n",
      "0                  YES       NO          None  \n",
      "1                  YES       NO          None  \n",
      "2                  YES       NO          None  \n",
      "3                  YES       NO          None  \n",
      "4                   NO       NO          None  \n",
      "..                 ...      ...           ...  \n",
      "204                 NO       NO          None  \n",
      "205                 NO       NO          None  \n",
      "206                 NO       NO          None  \n",
      "207                 NO       NO          None  \n",
      "208                 NO       NO          None  \n",
      "\n",
      "[209 rows x 12 columns]\n"
     ]
    }
   ],
   "source": [
    "\n",
    "\n",
    "# Define your SQL query\n",
    "sql_query = 'SELECT * FROM INFORMATION_SCHEMA.TABLES;'\n",
    "\n",
    "df = pd.read_sql(sql_query, con=db_con)\n",
    "\n",
    "print(df)\n"
   ]
  },
  {
   "cell_type": "code",
   "execution_count": null,
   "id": "99b61a69-83f0-4325-aeb7-9c0bfe70a79e",
   "metadata": {},
   "outputs": [],
   "source": []
  }
 ],
 "metadata": {
  "kernelspec": {
   "display_name": "Python 3 (ipykernel)",
   "language": "python",
   "name": "python3"
  },
  "language_info": {
   "codemirror_mode": {
    "name": "ipython",
    "version": 3
   },
   "file_extension": ".py",
   "mimetype": "text/x-python",
   "name": "python",
   "nbconvert_exporter": "python",
   "pygments_lexer": "ipython3",
   "version": "3.11.6"
  }
 },
 "nbformat": 4,
 "nbformat_minor": 5
}
